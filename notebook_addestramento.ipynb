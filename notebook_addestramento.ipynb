{
 "cells": [
  {
   "cell_type": "code",
   "execution_count": null,
   "metadata": {},
   "outputs": [],
   "source": [
    "!pip install -r requirements.txt"
   ]
  },
  {
   "cell_type": "code",
   "execution_count": 47,
   "metadata": {},
   "outputs": [],
   "source": [
    "import numpy as np\n",
    "import pandas as pd\n",
    "from sklearn import preprocessing\n",
    "from sklearn.metrics import mean_absolute_error\n",
    "from sklearn.metrics import accuracy_score\n",
    "from sklearn.model_selection import cross_val_score\n",
    "from sklearn.preprocessing import StandardScaler\n",
    "from sklearn.metrics import plot_confusion_matrix"
   ]
  },
  {
   "cell_type": "code",
   "execution_count": 48,
   "metadata": {},
   "outputs": [],
   "source": [
    "#Caricamento dataset\n",
    "train_path = './train.csv'\n",
    "test_path = './test.csv'\n",
    "\n",
    "train = pd.read_csv(train_path)\n",
    "test = pd.read_csv(test_path)"
   ]
  },
  {
   "cell_type": "markdown",
   "metadata": {},
   "source": [
    "## Preprocessing"
   ]
  },
  {
   "cell_type": "code",
   "execution_count": 49,
   "metadata": {},
   "outputs": [],
   "source": [
    "#Assign int values for y column\n",
    "train['No-show'] = train['No-show'].map({'Yes':1, 'No':0})\n",
    "test['No-show'] = test['No-show'].map({'Yes':1, 'No':0})"
   ]
  },
  {
   "cell_type": "code",
   "execution_count": 50,
   "metadata": {},
   "outputs": [
    {
     "data": {
      "text/plain": [
       "2"
      ]
     },
     "execution_count": 50,
     "metadata": {},
     "output_type": "execute_result"
    }
   ],
   "source": [
    "train['No-show'].nunique()"
   ]
  },
  {
   "cell_type": "code",
   "execution_count": 51,
   "metadata": {},
   "outputs": [],
   "source": [
    "# Column data replace/Removing null values/ missing data -> NON TROVATI\n",
    "#for i in ['listOfStuff']: \n",
    "#    train[i]  = train[i].replace({'' : '' or np.NaN})\n",
    "#    test[i] = test[i].replace({'':'' or np.NaN})"
   ]
  },
  {
   "cell_type": "code",
   "execution_count": 52,
   "metadata": {},
   "outputs": [],
   "source": [
    "#Drop nulli -> NON TROVATI\n",
    "#train = train.dropna(axis=0)\n",
    "#test = test.dropna(axis=0)"
   ]
  },
  {
   "cell_type": "code",
   "execution_count": 53,
   "metadata": {},
   "outputs": [],
   "source": [
    "#Remove unusual data \n",
    "train['Age'] = train['Age'].mask(train['Age']<0, np.NaN)\n",
    "test['Age'] = test['Age'].mask(train['Age']<0, np.NaN)\n",
    "train['Age'] = train['Age'].mask(train['Age']>100, np.NaN)\n",
    "test['Age'] = test['Age'].mask(train['Age']>100, np.NaN)\n",
    "\n",
    "train['Handcap'] = train['Handcap'].mask(train['Handcap']>0,1)\n",
    "test['Handcap'] = test['Handcap'].mask(test['Handcap']>0,1)\n",
    "\n",
    "train = train.dropna(axis=0)\n",
    "test = test.dropna(axis=0)"
   ]
  },
  {
   "cell_type": "code",
   "execution_count": 54,
   "metadata": {},
   "outputs": [],
   "source": [
    "#Add a column difference of days between scheduled and appointment\n",
    "#Add columns for scheduled day/month/year/hour/weekday and \n",
    "# appointment day day/month/year/weekday\n",
    "train['ScheduledDay'] = pd.to_datetime(train['ScheduledDay'])\n",
    "#removed because they don't change anything\n",
    "#train['Scheduled_Day'] = train['ScheduledDay'].dt.day\n",
    "#train['Scheduled_Month'] = train['ScheduledDay'].dt.month\n",
    "#train['Scheduled_Year'] = train['ScheduledDay'].dt.year\n",
    "#train['Scheduled_Hour'] = train['ScheduledDay'].dt.hour\n",
    "#train['Scheduled_Day_Of_Week'] = train['ScheduledDay'].dt.dayofweek\n",
    "train['ScheduledDay'] = train['ScheduledDay'].dt.date\n",
    "train['AppointmentDay'] = pd.to_datetime(train['AppointmentDay'])\n",
    "#removed because they don't change anything\n",
    "#train['Appointment_Day'] = train['AppointmentDay'].dt.day\n",
    "#train['Appointment_Month'] = train['AppointmentDay'].dt.month\n",
    "#train['Appointment_Year'] = train['AppointmentDay'].dt.year one unique value\n",
    "#train['Appointment_Day_Of_Week'] = train['AppointmentDay'].dt.dayofweek\n",
    "train['AppointmentDay'] = train['AppointmentDay'].dt.date\n",
    "train['Diff_Days_bw_Sch_App'] = ((train['AppointmentDay']-train['ScheduledDay']).dt.days)\n",
    "\n",
    "\n",
    "test['ScheduledDay'] = pd.to_datetime(test['ScheduledDay'])\n",
    "#removed because they don't change anything\n",
    "#test['Scheduled_Day'] = test['ScheduledDay'].dt.day\n",
    "#test['Scheduled_Month'] = test['ScheduledDay'].dt.month\n",
    "#test['Scheduled_Year'] = test['ScheduledDay'].dt.year \n",
    "#test['Scheduled_Hour'] = test['ScheduledDay'].dt.hour\n",
    "test['Scheduled_Day_Of_Week'] = test['ScheduledDay'].dt.dayofweek\n",
    "test['ScheduledDay'] =test['ScheduledDay'].dt.date\n",
    "test['AppointmentDay'] = pd.to_datetime(test['AppointmentDay'])\n",
    "#removed because they don't change anything\n",
    "#test['Appointment_Day'] = test['AppointmentDay'].dt.day\n",
    "#test['Appointment_Month'] = test['AppointmentDay'].dt.month\n",
    "#test['Appointment_Year'] = test['AppointmentDay'].dt.year one unique value\n",
    "#test['Appointment_Day_Of_Week'] = test['AppointmentDay'].dt.dayofweek\n",
    "test['AppointmentDay'] =test['AppointmentDay'].dt.date\n",
    "\n",
    "test['Diff_Days_bw_Sch_App'] = ((test['AppointmentDay']-test['ScheduledDay']).dt.days)\n",
    "\n",
    "\n",
    "train=train[train['Diff_Days_bw_Sch_App']>=0]\n",
    "test=test[test['Diff_Days_bw_Sch_App']>=0]\n",
    "\n",
    "train = train.drop(columns='ScheduledDay')\n",
    "test = test.drop(columns='ScheduledDay')\n",
    "#train = train.drop(columns='AppointmentDay')\n",
    "#test = test.drop(columns='AppointmentDay')\n",
    "\n",
    "#train['Scheduled_Day_Of_Week']"
   ]
  },
  {
   "cell_type": "code",
   "execution_count": 55,
   "metadata": {},
   "outputs": [
    {
     "name": "stdout",
     "output_type": "stream",
     "text": [
      "Gender\n",
      "F    0.203054\n",
      "M    0.198964\n",
      "Name: No-show, dtype: float64\n",
      "Scholarship\n",
      "0    0.197564\n",
      "1    0.238332\n",
      "Name: No-show, dtype: float64\n",
      "Hipertension\n",
      "0    0.208566\n",
      "1    0.173251\n",
      "Name: No-show, dtype: float64\n",
      "Diabetes\n",
      "0    0.203707\n",
      "1    0.174471\n",
      "Name: No-show, dtype: float64\n",
      "Alcoholism\n",
      "0    0.201820\n",
      "1    0.195077\n",
      "Name: No-show, dtype: float64\n",
      "SMS_received\n",
      "0    0.165805\n",
      "1    0.277131\n",
      "Name: No-show, dtype: float64\n"
     ]
    }
   ],
   "source": [
    "#Gender and Alcoholism are nearly equal in relation to No-Show\n",
    "checklist = ['Gender', 'Scholarship', 'Hipertension', 'Diabetes', 'Alcoholism', 'SMS_received']\n",
    "for i in checklist:\n",
    "    print(train.groupby(i)['No-show'].mean())"
   ]
  },
  {
   "cell_type": "code",
   "execution_count": 56,
   "metadata": {},
   "outputs": [],
   "source": [
    "#Identifying features\n",
    "# 'Scheduled_Day', 'Scheduled_Month', 'Scheduled_Year','Scheduled_Hour','Scheduled_Day_Of_Week',\n",
    "#'Appointment_Day', 'Appointment_Month','Appointment_Day_Of_Week',\n",
    "features = [ 'Diff_Days_bw_Sch_App', 'AppointmentDay', 'Age','Neighbourhood', 'Scholarship', 'Hipertension',\n",
    "            'Diabetes', 'Handcap', 'SMS_received']\n",
    "non_numerical_features = ['Neighbourhood', 'AppointmentDay']"
   ]
  },
  {
   "cell_type": "code",
   "execution_count": 57,
   "metadata": {},
   "outputs": [],
   "source": [
    "#Drop useless columns/ unique or with no correlation\n",
    "train.index = train['AppointmentID']\n",
    "test.index = test['AppointmentID']\n",
    "train = train.drop(columns='AppointmentID')\n",
    "test = test.drop(columns='AppointmentID')"
   ]
  },
  {
   "cell_type": "code",
   "execution_count": 58,
   "metadata": {},
   "outputs": [],
   "source": [
    "#train['ScheduledDay'] = train['ScheduledDay'].astype(str)\n",
    "#test['ScheduledDay'] = test['ScheduledDay'].astype(str)\n",
    "\n",
    "#train['AppointmentDay'] = train['AppointmentDay'].astype(str)\n",
    "#test['AppointmentDay'] = test['AppointmentDay'].astype(str)"
   ]
  },
  {
   "cell_type": "code",
   "execution_count": 59,
   "metadata": {},
   "outputs": [
    {
     "name": "stdout",
     "output_type": "stream",
     "text": [
      "<class 'pandas.core.frame.DataFrame'>\n",
      "Int64Index: 70729 entries, 5776992 to 5622732\n",
      "Data columns (total 13 columns):\n",
      " #   Column                Non-Null Count  Dtype  \n",
      "---  ------                --------------  -----  \n",
      " 0   No-show               70729 non-null  int64  \n",
      " 1   PatientId             70729 non-null  float64\n",
      " 2   Gender                70729 non-null  object \n",
      " 3   AppointmentDay        70729 non-null  object \n",
      " 4   Age                   70729 non-null  float64\n",
      " 5   Neighbourhood         70729 non-null  object \n",
      " 6   Scholarship           70729 non-null  int64  \n",
      " 7   Hipertension          70729 non-null  int64  \n",
      " 8   Diabetes              70729 non-null  int64  \n",
      " 9   Alcoholism            70729 non-null  int64  \n",
      " 10  Handcap               70729 non-null  int64  \n",
      " 11  SMS_received          70729 non-null  int64  \n",
      " 12  Diff_Days_bw_Sch_App  70729 non-null  int64  \n",
      "dtypes: float64(2), int64(8), object(3)\n",
      "memory usage: 7.6+ MB\n"
     ]
    }
   ],
   "source": [
    "train.info()"
   ]
  },
  {
   "cell_type": "code",
   "execution_count": 60,
   "metadata": {},
   "outputs": [],
   "source": [
    "#y contains previously unseen labels\n",
    "\n",
    "# Encoding strings of the data set into labels\n",
    "#le = preprocessing.LabelEncoder()\n",
    "#for column in non_numerical_features:\n",
    "#    print(column)\n",
    "#    #le.fit(pd.concat([train[column],test[column]], axis=0, ignore_index=True))\n",
    "#    le.fit(train[column])\n",
    "#    test[column] = test[column].map(lambda s: '<unknown>' if s not in le.classes_ else s)\n",
    "#    train[column] = le.fit_transform(train[column])\n",
    "#    test[column] = le.transform(test[column])\n",
    "\n",
    "label_train = train.copy()\n",
    "label_test = test.copy()\n",
    "le = preprocessing.LabelEncoder()\n",
    "for column in non_numerical_features:\n",
    "    label_train[column] = le.fit(train[column])\n",
    "    label_test[column] = label_test[column].map(lambda s: '<unknown>' if s not in le.classes_ else s)\n",
    "    le.classes_ = np.append(le.classes_, '<unknown>')\n",
    "    label_train[column] = le.transform(train[column])\n",
    "    label_test[column] = le.transform(label_test[column])\n",
    "    \n",
    "train = label_train\n",
    "test = label_test"
   ]
  },
  {
   "cell_type": "code",
   "execution_count": 61,
   "metadata": {},
   "outputs": [
    {
     "data": {
      "text/html": [
       "<div>\n",
       "<style scoped>\n",
       "    .dataframe tbody tr th:only-of-type {\n",
       "        vertical-align: middle;\n",
       "    }\n",
       "\n",
       "    .dataframe tbody tr th {\n",
       "        vertical-align: top;\n",
       "    }\n",
       "\n",
       "    .dataframe thead th {\n",
       "        text-align: right;\n",
       "    }\n",
       "</style>\n",
       "<table border=\"1\" class=\"dataframe\">\n",
       "  <thead>\n",
       "    <tr style=\"text-align: right;\">\n",
       "      <th></th>\n",
       "      <th>No-show</th>\n",
       "      <th>PatientId</th>\n",
       "      <th>Gender</th>\n",
       "      <th>AppointmentDay</th>\n",
       "      <th>Age</th>\n",
       "      <th>Neighbourhood</th>\n",
       "      <th>Scholarship</th>\n",
       "      <th>Hipertension</th>\n",
       "      <th>Diabetes</th>\n",
       "      <th>Alcoholism</th>\n",
       "      <th>Handcap</th>\n",
       "      <th>SMS_received</th>\n",
       "      <th>Diff_Days_bw_Sch_App</th>\n",
       "    </tr>\n",
       "    <tr>\n",
       "      <th>AppointmentID</th>\n",
       "      <th></th>\n",
       "      <th></th>\n",
       "      <th></th>\n",
       "      <th></th>\n",
       "      <th></th>\n",
       "      <th></th>\n",
       "      <th></th>\n",
       "      <th></th>\n",
       "      <th></th>\n",
       "      <th></th>\n",
       "      <th></th>\n",
       "      <th></th>\n",
       "      <th></th>\n",
       "    </tr>\n",
       "  </thead>\n",
       "  <tbody>\n",
       "    <tr>\n",
       "      <th>5776992</th>\n",
       "      <td>0</td>\n",
       "      <td>1.195732e+10</td>\n",
       "      <td>M</td>\n",
       "      <td>25</td>\n",
       "      <td>0.0</td>\n",
       "      <td>43</td>\n",
       "      <td>0</td>\n",
       "      <td>0</td>\n",
       "      <td>0</td>\n",
       "      <td>0</td>\n",
       "      <td>0</td>\n",
       "      <td>0</td>\n",
       "      <td>1</td>\n",
       "    </tr>\n",
       "    <tr>\n",
       "      <th>5755420</th>\n",
       "      <td>0</td>\n",
       "      <td>2.193125e+13</td>\n",
       "      <td>F</td>\n",
       "      <td>21</td>\n",
       "      <td>37.0</td>\n",
       "      <td>13</td>\n",
       "      <td>0</td>\n",
       "      <td>0</td>\n",
       "      <td>0</td>\n",
       "      <td>0</td>\n",
       "      <td>0</td>\n",
       "      <td>0</td>\n",
       "      <td>0</td>\n",
       "    </tr>\n",
       "    <tr>\n",
       "      <th>5722063</th>\n",
       "      <td>0</td>\n",
       "      <td>3.588818e+13</td>\n",
       "      <td>M</td>\n",
       "      <td>17</td>\n",
       "      <td>81.0</td>\n",
       "      <td>66</td>\n",
       "      <td>0</td>\n",
       "      <td>0</td>\n",
       "      <td>0</td>\n",
       "      <td>1</td>\n",
       "      <td>0</td>\n",
       "      <td>1</td>\n",
       "      <td>4</td>\n",
       "    </tr>\n",
       "    <tr>\n",
       "      <th>5592741</th>\n",
       "      <td>0</td>\n",
       "      <td>5.634754e+14</td>\n",
       "      <td>M</td>\n",
       "      <td>18</td>\n",
       "      <td>41.0</td>\n",
       "      <td>30</td>\n",
       "      <td>0</td>\n",
       "      <td>0</td>\n",
       "      <td>0</td>\n",
       "      <td>0</td>\n",
       "      <td>0</td>\n",
       "      <td>0</td>\n",
       "      <td>37</td>\n",
       "    </tr>\n",
       "    <tr>\n",
       "      <th>5691281</th>\n",
       "      <td>0</td>\n",
       "      <td>7.686731e+14</td>\n",
       "      <td>F</td>\n",
       "      <td>9</td>\n",
       "      <td>30.0</td>\n",
       "      <td>69</td>\n",
       "      <td>0</td>\n",
       "      <td>0</td>\n",
       "      <td>0</td>\n",
       "      <td>0</td>\n",
       "      <td>0</td>\n",
       "      <td>0</td>\n",
       "      <td>0</td>\n",
       "    </tr>\n",
       "    <tr>\n",
       "      <th>...</th>\n",
       "      <td>...</td>\n",
       "      <td>...</td>\n",
       "      <td>...</td>\n",
       "      <td>...</td>\n",
       "      <td>...</td>\n",
       "      <td>...</td>\n",
       "      <td>...</td>\n",
       "      <td>...</td>\n",
       "      <td>...</td>\n",
       "      <td>...</td>\n",
       "      <td>...</td>\n",
       "      <td>...</td>\n",
       "      <td>...</td>\n",
       "    </tr>\n",
       "    <tr>\n",
       "      <th>5733742</th>\n",
       "      <td>0</td>\n",
       "      <td>3.181769e+13</td>\n",
       "      <td>F</td>\n",
       "      <td>21</td>\n",
       "      <td>20.0</td>\n",
       "      <td>75</td>\n",
       "      <td>0</td>\n",
       "      <td>0</td>\n",
       "      <td>0</td>\n",
       "      <td>0</td>\n",
       "      <td>0</td>\n",
       "      <td>0</td>\n",
       "      <td>8</td>\n",
       "    </tr>\n",
       "    <tr>\n",
       "      <th>5590264</th>\n",
       "      <td>1</td>\n",
       "      <td>4.249772e+14</td>\n",
       "      <td>M</td>\n",
       "      <td>2</td>\n",
       "      <td>7.0</td>\n",
       "      <td>33</td>\n",
       "      <td>0</td>\n",
       "      <td>0</td>\n",
       "      <td>0</td>\n",
       "      <td>0</td>\n",
       "      <td>0</td>\n",
       "      <td>0</td>\n",
       "      <td>18</td>\n",
       "    </tr>\n",
       "    <tr>\n",
       "      <th>5672897</th>\n",
       "      <td>1</td>\n",
       "      <td>4.935222e+11</td>\n",
       "      <td>M</td>\n",
       "      <td>9</td>\n",
       "      <td>25.0</td>\n",
       "      <td>59</td>\n",
       "      <td>0</td>\n",
       "      <td>0</td>\n",
       "      <td>0</td>\n",
       "      <td>0</td>\n",
       "      <td>0</td>\n",
       "      <td>0</td>\n",
       "      <td>3</td>\n",
       "    </tr>\n",
       "    <tr>\n",
       "      <th>5751329</th>\n",
       "      <td>0</td>\n",
       "      <td>6.166687e+14</td>\n",
       "      <td>F</td>\n",
       "      <td>20</td>\n",
       "      <td>37.0</td>\n",
       "      <td>59</td>\n",
       "      <td>0</td>\n",
       "      <td>0</td>\n",
       "      <td>0</td>\n",
       "      <td>0</td>\n",
       "      <td>0</td>\n",
       "      <td>0</td>\n",
       "      <td>0</td>\n",
       "    </tr>\n",
       "    <tr>\n",
       "      <th>5622732</th>\n",
       "      <td>1</td>\n",
       "      <td>1.511633e+11</td>\n",
       "      <td>M</td>\n",
       "      <td>4</td>\n",
       "      <td>0.0</td>\n",
       "      <td>68</td>\n",
       "      <td>0</td>\n",
       "      <td>0</td>\n",
       "      <td>0</td>\n",
       "      <td>0</td>\n",
       "      <td>0</td>\n",
       "      <td>0</td>\n",
       "      <td>9</td>\n",
       "    </tr>\n",
       "  </tbody>\n",
       "</table>\n",
       "<p>70729 rows × 13 columns</p>\n",
       "</div>"
      ],
      "text/plain": [
       "               No-show     PatientId Gender  AppointmentDay   Age  \\\n",
       "AppointmentID                                                       \n",
       "5776992              0  1.195732e+10      M              25   0.0   \n",
       "5755420              0  2.193125e+13      F              21  37.0   \n",
       "5722063              0  3.588818e+13      M              17  81.0   \n",
       "5592741              0  5.634754e+14      M              18  41.0   \n",
       "5691281              0  7.686731e+14      F               9  30.0   \n",
       "...                ...           ...    ...             ...   ...   \n",
       "5733742              0  3.181769e+13      F              21  20.0   \n",
       "5590264              1  4.249772e+14      M               2   7.0   \n",
       "5672897              1  4.935222e+11      M               9  25.0   \n",
       "5751329              0  6.166687e+14      F              20  37.0   \n",
       "5622732              1  1.511633e+11      M               4   0.0   \n",
       "\n",
       "               Neighbourhood  Scholarship  Hipertension  Diabetes  Alcoholism  \\\n",
       "AppointmentID                                                                   \n",
       "5776992                   43            0             0         0           0   \n",
       "5755420                   13            0             0         0           0   \n",
       "5722063                   66            0             0         0           1   \n",
       "5592741                   30            0             0         0           0   \n",
       "5691281                   69            0             0         0           0   \n",
       "...                      ...          ...           ...       ...         ...   \n",
       "5733742                   75            0             0         0           0   \n",
       "5590264                   33            0             0         0           0   \n",
       "5672897                   59            0             0         0           0   \n",
       "5751329                   59            0             0         0           0   \n",
       "5622732                   68            0             0         0           0   \n",
       "\n",
       "               Handcap  SMS_received  Diff_Days_bw_Sch_App  \n",
       "AppointmentID                                               \n",
       "5776992              0             0                     1  \n",
       "5755420              0             0                     0  \n",
       "5722063              0             1                     4  \n",
       "5592741              0             0                    37  \n",
       "5691281              0             0                     0  \n",
       "...                ...           ...                   ...  \n",
       "5733742              0             0                     8  \n",
       "5590264              0             0                    18  \n",
       "5672897              0             0                     3  \n",
       "5751329              0             0                     0  \n",
       "5622732              0             0                     9  \n",
       "\n",
       "[70729 rows x 13 columns]"
      ]
     },
     "execution_count": 61,
     "metadata": {},
     "output_type": "execute_result"
    }
   ],
   "source": [
    "train"
   ]
  },
  {
   "cell_type": "code",
   "execution_count": 62,
   "metadata": {},
   "outputs": [
    {
     "name": "stdout",
     "output_type": "stream",
     "text": [
      "Diff_Days_bw_Sch_App\n",
      "0      0.045226\n",
      "1      0.215152\n",
      "2      0.232243\n",
      "3      0.242183\n",
      "4      0.227043\n",
      "         ...   \n",
      "155    0.625000\n",
      "162    0.250000\n",
      "169    0.000000\n",
      "176    0.363636\n",
      "179    0.142857\n",
      "Name: No-show, Length: 126, dtype: float64\n",
      "AppointmentDay\n",
      "0     0.200867\n",
      "1     0.196833\n",
      "2     0.194918\n",
      "3     0.242413\n",
      "4     0.188889\n",
      "5     0.212158\n",
      "6     0.226938\n",
      "7     0.223756\n",
      "8     0.197105\n",
      "9     0.185092\n",
      "10    0.232291\n",
      "11    0.190476\n",
      "12    0.227553\n",
      "13    0.213547\n",
      "14    0.204635\n",
      "15    0.205166\n",
      "16    0.233691\n",
      "17    0.203137\n",
      "18    0.189717\n",
      "19    0.200069\n",
      "20    0.185265\n",
      "21    0.165695\n",
      "22    0.192239\n",
      "23    0.194391\n",
      "24    0.186604\n",
      "25    0.179887\n",
      "26    0.169268\n",
      "Name: No-show, dtype: float64\n",
      "Age\n",
      "0.0      0.175814\n",
      "1.0      0.175339\n",
      "2.0      0.156371\n",
      "3.0      0.178138\n",
      "4.0      0.227545\n",
      "           ...   \n",
      "95.0     0.235294\n",
      "96.0     0.000000\n",
      "97.0     0.222222\n",
      "98.0     0.200000\n",
      "100.0    0.000000\n",
      "Name: No-show, Length: 100, dtype: float64\n",
      "Neighbourhood\n",
      "0     0.125000\n",
      "1     0.225716\n",
      "2     0.149733\n",
      "3     0.182796\n",
      "4     0.221344\n",
      "        ...   \n",
      "76    0.211490\n",
      "77    0.214736\n",
      "78    0.190429\n",
      "79    0.235849\n",
      "80    0.164557\n",
      "Name: No-show, Length: 81, dtype: float64\n",
      "Scholarship\n",
      "0    0.197564\n",
      "1    0.238332\n",
      "Name: No-show, dtype: float64\n",
      "Hipertension\n",
      "0    0.208566\n",
      "1    0.173251\n",
      "Name: No-show, dtype: float64\n",
      "Diabetes\n",
      "0    0.203707\n",
      "1    0.174471\n",
      "Name: No-show, dtype: float64\n",
      "Handcap\n",
      "0    0.202038\n",
      "1    0.181315\n",
      "Name: No-show, dtype: float64\n",
      "SMS_received\n",
      "0    0.165805\n",
      "1    0.277131\n",
      "Name: No-show, dtype: float64\n"
     ]
    }
   ],
   "source": [
    "for i in features:\n",
    "    print(train.groupby(i)['No-show'].mean())"
   ]
  },
  {
   "cell_type": "code",
   "execution_count": 63,
   "metadata": {},
   "outputs": [],
   "source": [
    "#Separate features from y\n",
    "train_X = train[features]\n",
    "train_y = train['No-show']\n",
    "val_X = test[features]\n",
    "val_y = test['No-show']"
   ]
  },
  {
   "cell_type": "code",
   "execution_count": 64,
   "metadata": {},
   "outputs": [],
   "source": [
    "# More processing\n",
    "sc = StandardScaler()\n",
    "train_X = pd.DataFrame(sc.fit_transform(train_X))\n",
    "val_X = pd.DataFrame(sc.transform(val_X))"
   ]
  },
  {
   "cell_type": "markdown",
   "metadata": {},
   "source": [
    "## Addestramento"
   ]
  },
  {
   "cell_type": "code",
   "execution_count": 65,
   "metadata": {},
   "outputs": [
    {
     "name": "stdout",
     "output_type": "stream",
     "text": [
      "[0 0 0 ... 0 0 0]\n",
      "0.20459172133001582\n",
      "79.83853864751374\n",
      "79.54082786699843\n"
     ]
    }
   ],
   "source": [
    "#RESULT: 79-79, best (slightly)\n",
    "from sklearn.tree import DecisionTreeClassifier\n",
    "\n",
    "model = DecisionTreeClassifier(random_state=0, max_depth=3, max_leaf_nodes=5)\n",
    "model.fit(train_X,train_y)\n",
    "\n",
    "predicted = model.predict(val_X)\n",
    "mae = mean_absolute_error(val_y,predicted)\n",
    "train_accuracy = model.score(train_X,train_y)*100\n",
    "test_accuracy = model.score(val_X,val_y)*100\n",
    "\n",
    "print(predicted)\n",
    "print(mae)\n",
    "print(train_accuracy)\n",
    "print(test_accuracy)"
   ]
  },
  {
   "cell_type": "code",
   "execution_count": 66,
   "metadata": {},
   "outputs": [
    {
     "name": "stdout",
     "output_type": "stream",
     "text": [
      "Mean absolute error: \n",
      "0.20877629495589234\n",
      "Training set accuracy: \n",
      "79.46245528708168\n",
      "Test set accuracy: \n",
      "79.12237050441077\n"
     ]
    }
   ],
   "source": [
    "#RESULT: 79-79\n",
    "from sklearn.linear_model import LogisticRegression\n",
    "\n",
    "model = LogisticRegression(n_jobs=-1)\n",
    "model.fit(train_X, train_y)\n",
    "\n",
    "predicted = model.predict(val_X)\n",
    "mae = mean_absolute_error(val_y,predicted)\n",
    "train_accuracy = model.score(train_X,train_y)*100\n",
    "test_accuracy = model.score(val_X,val_y)*100\n",
    "\n",
    "print('Mean absolute error: ')\n",
    "print(mae)\n",
    "print('Training set accuracy: ')\n",
    "print(train_accuracy)\n",
    "print('Test set accuracy: ')\n",
    "print(test_accuracy)"
   ]
  },
  {
   "cell_type": "code",
   "execution_count": 67,
   "metadata": {},
   "outputs": [],
   "source": [
    "#RESULT\n",
    "## TO CHECK WITH OTHER VARIABLES, LIKE NUMBER OF LEAVES\n",
    "#from sklearn.tree import DecisionTreeClassifier\n",
    "#best=[0,0,0,0,0]\n",
    "#for j in range(2,50):\n",
    "#    for i in range(1,10):\n",
    "#        model = DecisionTreeClassifier(random_state=0, max_leaf_nodes = j, max_depth=i)\n",
    "#        model.fit(train_X,train_y)\n",
    "#        predicted = model.predict(val_X)\n",
    "#        print(i)\n",
    "#        mae = mean_absolute_error(val_y,predicted)\n",
    "#        print(predicted)\n",
    "#        train_accuracy = model.score(train_X,train_y)*100\n",
    "#        test_accuracy = model.score(val_X,val_y)*100\n",
    "#        print(mae)\n",
    "#        print(train_accuracy)\n",
    "#        print(test_accuracy)\n",
    "#        if test_accuracy > best[2]:\n",
    "#            best[0] = i\n",
    "#            best[1] = train_accuracy\n",
    "#            best[2] = test_accuracy\n",
    "#            best[3] = mae\n",
    "#            best[4] = j\n",
    "#print(best)"
   ]
  },
  {
   "cell_type": "code",
   "execution_count": 68,
   "metadata": {},
   "outputs": [
    {
     "name": "stdout",
     "output_type": "stream",
     "text": [
      "[1 0 0 ... 0 0 0]\n",
      "0.23037774259217372\n",
      "83.29115355794653\n",
      "76.96222574078263\n"
     ]
    }
   ],
   "source": [
    "#RESULT = overfit\n",
    "#from sklearn.neighbors import KNeighborsClassifier\n",
    "\n",
    "#model = KNeighborsClassifier(n_neighbors=5,n_jobs=-1)\n",
    "#model.fit(train_X, train_y)\n",
    "\n",
    "#predicted = model.predict(val_X)\n",
    "#mae = mean_absolute_error(val_y,predicted)\n",
    "\n",
    "#train_accuracy = model.score(train_X,train_y)*100\n",
    "#test_accuracy = model.score(val_X,val_y)*100\n",
    "\n",
    "#print(predicted)\n",
    "#print(mae)\n",
    "#print(train_accuracy)\n",
    "#print(test_accuracy)"
   ]
  },
  {
   "cell_type": "code",
   "execution_count": 69,
   "metadata": {},
   "outputs": [],
   "source": [
    "#RESULT\n",
    "#from sklearn.neighbors import KNeighborsClassifier\n",
    "#results=[]\n",
    "#best=[0,0,0,0]\n",
    "#for i in range(1,30):\n",
    "#    model = KNeighborsClassifier(n_neighbors=i,n_jobs=-1)\n",
    "#    model.fit(train_X, train_y)\n",
    "#    predicted = model.predict(val_X)\n",
    "#    print(i)\n",
    "#    mae = mean_absolute_error(val_y,predicted)\n",
    "#    print(predicted)\n",
    "#    train_accuracy = model.score(train_X,train_y)*100\n",
    "#    test_accuracy = model.score(val_X,val_y)*100\n",
    "#    print(mae)\n",
    "#    print(train_accuracy)\n",
    "#    print(test_accuracy)\n",
    "#    results.append(mae) \n",
    "#    if test_accuracy > best[2]:\n",
    "#        best[0] = i\n",
    "#        best[1] = train_accuracy\n",
    "#        best[2] = test_accuracy\n",
    "#        best[3] = mae\n",
    "#from statistics import mean\n",
    "#mean(results)\n",
    "#print(best) "
   ]
  },
  {
   "cell_type": "markdown",
   "metadata": {},
   "source": [
    "## Conclusione"
   ]
  },
  {
   "cell_type": "code",
   "execution_count": 70,
   "metadata": {},
   "outputs": [
    {
     "data": {
      "text/plain": [
       "DecisionTreeClassifier(max_depth=3, max_leaf_nodes=5, random_state=0)"
      ]
     },
     "execution_count": 70,
     "metadata": {},
     "output_type": "execute_result"
    }
   ],
   "source": [
    "#Classifier scelto: DecisionTreeClassifier\n",
    "from sklearn.tree import DecisionTreeClassifier\n",
    "\n",
    "model = DecisionTreeClassifier(random_state=0, max_depth=5, max_leaf_nodes=5)\n",
    "model.fit(train_X,train_y)"
   ]
  },
  {
   "cell_type": "code",
   "execution_count": 71,
   "metadata": {},
   "outputs": [
    {
     "name": "stdout",
     "output_type": "stream",
     "text": [
      "[0 0 0 ... 0 0 0]\n",
      "0.20459172133001582\n",
      "79.83853864751374\n",
      "79.54082786699843\n"
     ]
    }
   ],
   "source": [
    "predicted = model.predict(val_X)\n",
    "mae = mean_absolute_error(val_y,predicted)\n",
    "train_accuracy = model.score(train_X,train_y)*100\n",
    "test_accuracy = model.score(val_X,val_y)*100\n",
    "\n",
    "print(predicted)\n",
    "print(mae)\n",
    "print(train_accuracy)\n",
    "print(test_accuracy)"
   ]
  },
  {
   "cell_type": "code",
   "execution_count": 72,
   "metadata": {},
   "outputs": [
    {
     "data": {
      "text/plain": [
       "<sklearn.metrics._plot.confusion_matrix.ConfusionMatrixDisplay at 0x239559fdf70>"
      ]
     },
     "execution_count": 72,
     "metadata": {},
     "output_type": "execute_result"
    },
    {
     "data": {
      "image/png": "[encoded data removed]",
      "text/plain": [
       "<Figure size 432x288 with 2 Axes>"
      ]
     },
     "metadata": {
      "needs_background": "light"
     },
     "output_type": "display_data"
    }
   ],
   "source": [
    "plot_confusion_matrix(model,val_X,val_y)"
   ]
  }
 ],
 "metadata": {
  "kernelspec": {
   "display_name": "Python 3",
   "language": "python",
   "name": "python3"
  },
  "language_info": {
   "codemirror_mode": {
    "name": "ipython",
    "version": 3
   },
   "file_extension": ".py",
   "mimetype": "text/x-python",
   "name": "python",
   "nbconvert_exporter": "python",
   "pygments_lexer": "ipython3",
   "version": "3.8.2"
  }
 },
 "nbformat": 4,
 "nbformat_minor": 4
}
